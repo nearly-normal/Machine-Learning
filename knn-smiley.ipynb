{
 "metadata": {
  "name": "",
  "signature": "sha256:ff940e646a2e7e8f26d7a1aa5df95f15d212ba408e056f0296710b98f8c803f9"
 },
 "nbformat": 3,
 "nbformat_minor": 0,
 "worksheets": [
  {
   "cells": [
    {
     "cell_type": "code",
     "collapsed": false,
     "input": [
      "import numpy as np\n",
      "import pandas as pd\n",
      "import pylab as pl\n",
      "from sklearn.neighbors import KNeighborsClassifier\n",
      " \n",
      " \n",
      "data = []\n",
      "for i in range(0, 100):\n",
      "    for j in range(0, 100):\n",
      "        data.append([i, j])\n",
      " \n",
      "df = pd.DataFrame(data, columns=['x', 'y'])\n",
      "df['color'] = 'yellow'\n",
      " \n",
      "# left eye\n",
      "idx = ((df['x'] - 30)**2 + (df['y'] - 80)**2 <= 100)\n",
      "df['color'] = np.where(idx, 'black', 'yellow')\n",
      " \n",
      "# right eye\n",
      "idx = ((df['x'] - 70)**2 + (df['y'] - 80)**2 <= 100)\n",
      "df['color'] = np.where(df['color']!='black', np.where(idx, 'black', 'yellow'), df['color'])\n",
      " \n",
      "# smile\n",
      "idx = ((df['x'] - 50)**2 + (df['y'] - 40)**2 <= 1000)\n",
      "idx = idx & (df['y'] < 40)\n",
      " \n",
      "df['color'] = np.where(df['color']!='black', np.where(idx, 'black', 'yellow'), df['color'])\n",
      " \n",
      "for color in ['yellow', 'black']:\n",
      "    print color\n",
      "    print len(df[df.color==color])\n",
      "    pl.scatter(df[df.color==color].x, df[df.color==color].y, c=color, marker=',', edgecolors='none')\n",
      " \n",
      "pl.show()"
     ],
     "language": "python",
     "metadata": {},
     "outputs": [
      {
       "output_type": "stream",
       "stream": "stdout",
       "text": [
        "yellow\n",
        "7823\n",
        "black"
       ]
      }
     ]
    },
    {
     "cell_type": "code",
     "collapsed": false,
     "input": [],
     "language": "python",
     "metadata": {},
     "outputs": []
    }
   ],
   "metadata": {}
  }
 ]
}